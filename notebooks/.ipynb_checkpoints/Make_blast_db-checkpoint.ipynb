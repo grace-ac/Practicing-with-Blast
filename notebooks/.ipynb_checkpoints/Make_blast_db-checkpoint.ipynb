{
 "cells": [
  {
   "cell_type": "code",
   "execution_count": 1,
   "metadata": {},
   "outputs": [
    {
     "name": "stdout",
     "output_type": "stream",
     "text": [
      "USAGE\r\n",
      "  makeblastdb [-h] [-help] [-in input_file] [-input_type type]\r\n",
      "    -dbtype molecule_type [-title database_title] [-parse_seqids]\r\n",
      "    [-hash_index] [-mask_data mask_data_files] [-mask_id mask_algo_ids]\r\n",
      "    [-mask_desc mask_algo_descriptions] [-gi_mask]\r\n",
      "    [-gi_mask_name gi_based_mask_names] [-out database_name]\r\n",
      "    [-max_file_sz number_of_bytes] [-logfile File_Name] [-taxid TaxID]\r\n",
      "    [-taxid_map TaxIDMapFile] [-version]\r\n",
      "\r\n",
      "DESCRIPTION\r\n",
      "   Application to create BLAST databases, version 2.6.0+\r\n",
      "\r\n",
      "Use '-help' to print detailed descriptions of command line arguments\r\n"
     ]
    }
   ],
   "source": [
    "!makeblastdb -h"
   ]
  },
  {
   "cell_type": "code",
   "execution_count": 2,
   "metadata": {},
   "outputs": [
    {
     "data": {
      "text/plain": [
       "'/Users/graciecrandall/Documents/GitHub/Practicing-with-Blast/notebooks'"
      ]
     },
     "execution_count": 2,
     "metadata": {},
     "output_type": "execute_result"
    }
   ],
   "source": [
    "pwd"
   ]
  },
  {
   "cell_type": "code",
   "execution_count": 3,
   "metadata": {},
   "outputs": [
    {
     "name": "stdout",
     "output_type": "stream",
     "text": [
      "\n",
      "\n",
      "Building a new DB, current time: 08/30/2017 16:03:41\n",
      "New DB name:   /Users/graciecrandall/Documents/GitHub/Practicing-with-Blast/blastdb/uniprot_sprot\n",
      "New DB title:  ../blastdb/uniprot_sprot.fasta\n",
      "Sequence type: Protein\n",
      "Keep MBits: T\n",
      "Maximum file size: 1000000000B\n",
      "Adding sequences from FASTA; added 555426 sequences in 27.369 seconds.\n"
     ]
    }
   ],
   "source": [
    "!makeblastdb \\\n",
    "-in ../blastdb/uniprot_sprot.fasta \\\n",
    "-dbtype prot \\\n",
    "-out ../blastdb/uniprot_sprot "
   ]
  },
  {
   "cell_type": "code",
   "execution_count": 4,
   "metadata": {},
   "outputs": [
    {
     "name": "stdout",
     "output_type": "stream",
     "text": [
      "uniprot_sprot.fasta uniprot_sprot.phr   uniprot_sprot.pin   uniprot_sprot.psq\r\n"
     ]
    }
   ],
   "source": [
    "!ls ../blastdb/"
   ]
  },
  {
   "cell_type": "code",
   "execution_count": null,
   "metadata": {
    "collapsed": true
   },
   "outputs": [],
   "source": []
  }
 ],
 "metadata": {
  "kernelspec": {
   "display_name": "Python [default]",
   "language": "python",
   "name": "python3"
  },
  "language_info": {
   "codemirror_mode": {
    "name": "ipython",
    "version": 3
   },
   "file_extension": ".py",
   "mimetype": "text/x-python",
   "name": "python",
   "nbconvert_exporter": "python",
   "pygments_lexer": "ipython3",
   "version": "3.5.3"
  }
 },
 "nbformat": 4,
 "nbformat_minor": 2
}
