{
 "cells": [
  {
   "cell_type": "code",
   "execution_count": 1,
   "metadata": {},
   "outputs": [
    {
     "data": {
      "text/plain": [
       "'/Users/srlab/Desktop/grace-githubrepos/Practicing-with-Blast/notebooks'"
      ]
     },
     "execution_count": 1,
     "metadata": {},
     "output_type": "execute_result"
    }
   ],
   "source": [
    "pwd"
   ]
  },
  {
   "cell_type": "code",
   "execution_count": 2,
   "metadata": {
    "collapsed": true
   },
   "outputs": [],
   "source": [
    "!blastp \\\n",
    "-query ../data/Cg_Gigaton_proteins.fa \\\n",
    "-db ../blast_db/uniprot_sprot \\\n",
    "-max_target_seqs 1 \\\n",
    "-outfmt 6 \\\n",
    "-num_threads 8 \\\n",
    "-out ../analyses/0915-cgigablast-sprot.tab"
   ]
  },
  {
   "cell_type": "code",
   "execution_count": 4,
   "metadata": {},
   "outputs": [
    {
     "name": "stdout",
     "output_type": "stream",
     "text": [
      "CHOYP_043R.1.5|m.16874\tsp|Q06852|SLAP1_CLOTH\t56.944\t216\t61\t18\t10\t197\t1388\t1599\t5.15e-08\t55.8\r\n",
      "CHOYP_043R.1.5|m.16874\tsp|Q06852|SLAP1_CLOTH\t58.986\t217\t60\t19\t5\t197\t1572\t1783\t1.10e-07\t54.7\r\n",
      "CHOYP_043R.1.5|m.16874\tsp|Q06852|SLAP1_CLOTH\t57.547\t212\t59\t19\t5\t197\t1768\t1967\t2.88e-07\t53.5\r\n",
      "CHOYP_043R.1.5|m.16874\tsp|Q06852|SLAP1_CLOTH\t54.884\t215\t60\t17\t5\t194\t1670\t1872\t1.00e-06\t52.0\r\n",
      "CHOYP_043R.1.5|m.16874\tsp|Q06852|SLAP1_CLOTH\t56.881\t218\t63\t18\t5\t197\t1486\t1697\t1.22e-06\t51.6\r\n",
      "CHOYP_043R.1.5|m.16874\tsp|Q06852|SLAP1_CLOTH\t56.818\t220\t66\t19\t1\t197\t1699\t1912\t2.10e-06\t50.8\r\n",
      "CHOYP_043R.1.5|m.16874\tsp|Q06852|SLAP1_CLOTH\t54.930\t213\t59\t17\t5\t194\t1545\t1743\t2.41e-06\t50.8\r\n",
      "CHOYP_043R.1.5|m.16874\tsp|Q06852|SLAP1_CLOTH\t56.039\t207\t58\t18\t5\t194\t1639\t1829\t5.76e-06\t49.7\r\n",
      "CHOYP_043R.1.5|m.16874\tsp|Q06852|SLAP1_CLOTH\t55.263\t190\t56\t15\t10\t194\t1382\t1547\t6.20e-06\t49.7\r\n",
      "CHOYP_043R.1.5|m.16874\tsp|Q06852|SLAP1_CLOTH\t59.563\t183\t49\t16\t5\t170\t1842\t2016\t2.21e-05\t47.8\r\n"
     ]
    }
   ],
   "source": [
    "!head ../analyses/0915-cgigablast-sprot.tab"
   ]
  },
  {
   "cell_type": "code",
   "execution_count": 5,
   "metadata": {},
   "outputs": [
    {
     "name": "stdout",
     "output_type": "stream",
     "text": [
      "   89287 ../analyses/0915-cgigablast-sprot.tab\r\n"
     ]
    }
   ],
   "source": [
    "!wc -l ../analyses/0915-cgigablast-sprot.tab"
   ]
  },
  {
   "cell_type": "code",
   "execution_count": null,
   "metadata": {
    "collapsed": true
   },
   "outputs": [],
   "source": []
  }
 ],
 "metadata": {
  "kernelspec": {
   "display_name": "Python 3",
   "language": "python",
   "name": "python3"
  },
  "language_info": {
   "codemirror_mode": {
    "name": "ipython",
    "version": 3
   },
   "file_extension": ".py",
   "mimetype": "text/x-python",
   "name": "python",
   "nbconvert_exporter": "python",
   "pygments_lexer": "ipython3",
   "version": "3.6.1"
  }
 },
 "nbformat": 4,
 "nbformat_minor": 2
}
