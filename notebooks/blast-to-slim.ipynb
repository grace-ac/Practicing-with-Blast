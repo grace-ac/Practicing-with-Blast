{
 "cells": [
  {
   "cell_type": "markdown",
   "metadata": {},
   "source": [
    "## A notebook to seamlessly take blast output to GO Slim list"
   ]
  },
  {
   "cell_type": "markdown",
   "metadata": {
    "collapsed": true
   },
   "source": [
    "This is a notebook meant to run in a working directory. Please set working directory as variable in next cell"
   ]
  },
  {
   "cell_type": "code",
   "execution_count": 1,
   "metadata": {
    "collapsed": true
   },
   "outputs": [],
   "source": [
    "wd=\"/Users/srlab/Desktop/grace-githubrepos/Practicing-with-Blast/analyses/0918\"\n"
   ]
  },
  {
   "cell_type": "code",
   "execution_count": 2,
   "metadata": {},
   "outputs": [
    {
     "name": "stdout",
     "output_type": "stream",
     "text": [
      "/Users/srlab/Desktop/grace-githubrepos/Practicing-with-Blast/analyses/0918\n"
     ]
    }
   ],
   "source": [
    "cd $wd"
   ]
  },
  {
   "cell_type": "markdown",
   "metadata": {},
   "source": [
    "### In this directory you will need three files\n",
    "1) blastout file in format `-6`    \n",
    "2) Uniprot GO annotation file (340M) available here `http://owl.fish.washington.edu/halfshell/bu-alanine-wd/17-07-20/uniprot-SP-GO.sorted`    \n",
    "3) GOslim file available here `http://owl.fish.washington.edu/halfshell/bu-alanine-wd/17-07-20/GO-GOslim.sorted`"
   ]
  },
  {
   "cell_type": "code",
   "execution_count": 4,
   "metadata": {},
   "outputs": [
    {
     "name": "stdout",
     "output_type": "stream",
     "text": [
      "  % Total    % Received % Xferd  Average Speed   Time    Time     Time  Current\n",
      "                                 Dload  Upload   Total   Spent    Left  Speed\n",
      "100 2314k  100 2314k    0     0  18.6M      0 --:--:-- --:--:-- --:--:-- 19.1M\n"
     ]
    }
   ],
   "source": [
    "!curl -O http://owl.fish.washington.edu/halfshell/bu-alanine-wd/17-07-20/GO-GOslim.sorted"
   ]
  },
  {
   "cell_type": "code",
   "execution_count": 3,
   "metadata": {},
   "outputs": [
    {
     "name": "stdout",
     "output_type": "stream",
     "text": [
      "  % Total    % Received % Xferd  Average Speed   Time    Time     Time  Current\n",
      "                                 Dload  Upload   Total   Spent    Left  Speed\n",
      "100  340M  100  340M    0     0  52.1M      0  0:00:06  0:00:06 --:--:-- 55.9M\n"
     ]
    }
   ],
   "source": [
    "!curl -O  http://owl.fish.washington.edu/halfshell/bu-alanine-wd/17-07-20/uniprot-SP-GO.sorted"
   ]
  },
  {
   "cell_type": "code",
   "execution_count": 6,
   "metadata": {},
   "outputs": [
    {
     "name": "stdout",
     "output_type": "stream",
     "text": [
      "0915-cgigablast-sprot.tab GO-GOslim.sorted          uniprot-SP-GO.sorted\r\n"
     ]
    }
   ],
   "source": [
    "#checking if files in directory\n",
    "!ls "
   ]
  },
  {
   "cell_type": "markdown",
   "metadata": {},
   "source": [
    "### Set blastout file as variable"
   ]
  },
  {
   "cell_type": "code",
   "execution_count": 7,
   "metadata": {},
   "outputs": [],
   "source": [
    "blastout=\"0915-cgigablast-sprot.tab\"\n"
   ]
  },
  {
   "cell_type": "markdown",
   "metadata": {},
   "source": [
    "# That should be the last thing you have to Type!"
   ]
  },
  {
   "cell_type": "markdown",
   "metadata": {},
   "source": [
    "![Run all cell below](https://d1zjcuqflbd5k.cloudfront.net/files/acc_524195/1CsBk?response-content-disposition=inline;%20filename=Screen%20Capture%20on%202017-07-20%20at%2011-50-11.gif&Expires=1500576917&Signature=gyehwKgCTxTHzRrBID1ecQc-aBTBD0si7-XVhQHvbDdboJ2j86KMTwN8XoOZzue7PPY-QT7tIDG4DGTeWXv73VT6zfylPqDz9u19oiGZOyiyyK6EAGlK~8nPzTvwhtRN1uNcqqBuINV94sb2HjK9c6TgsHf1N5eRZF4~4FhIgjY_&Key-Pair-Id=APKAJTEIOJM3LSMN33SA)"
   ]
  },
  {
   "cell_type": "code",
   "execution_count": 8,
   "metadata": {},
   "outputs": [
    {
     "name": "stdout",
     "output_type": "stream",
     "text": [
      "CHOYP_043R.1.5|m.16874\tsp|Q06852|SLAP1_CLOTH\t56.944\t216\t61\t18\t10\t197\t1388\t1599\t5.15e-08\t55.8\r\n",
      "CHOYP_043R.1.5|m.16874\tsp|Q06852|SLAP1_CLOTH\t58.986\t217\t60\t19\t5\t197\t1572\t1783\t1.10e-07\t54.7\r\n"
     ]
    }
   ],
   "source": [
    "!head -2 $blastout"
   ]
  },
  {
   "cell_type": "code",
   "execution_count": 9,
   "metadata": {},
   "outputs": [],
   "source": [
    "#convert pipes to tab\n",
    "!tr '|' '\\t' < $blastout \\\n",
    "> _blast-sep.tab"
   ]
  },
  {
   "cell_type": "code",
   "execution_count": 10,
   "metadata": {
    "scrolled": true
   },
   "outputs": [
    {
     "name": "stdout",
     "output_type": "stream",
     "text": [
      "CHOYP_043R.1.5\tm.16874\tsp\tQ06852\tSLAP1_CLOTH\t56.944\t216\t61\t18\t10\t197\t1388\t1599\t5.15e-08\t55.8\r\n",
      "CHOYP_043R.1.5\tm.16874\tsp\tQ06852\tSLAP1_CLOTH\t58.986\t217\t60\t19\t5\t197\t1572\t1783\t1.10e-07\t54.7\r\n"
     ]
    }
   ],
   "source": [
    "!head -2 _blast-sep.tab"
   ]
  },
  {
   "cell_type": "code",
   "execution_count": 11,
   "metadata": {},
   "outputs": [],
   "source": [
    "#reducing number of columns and sorting \n",
    "!awk -v OFS='\\t' '{print $4, $1, $14}' < _blast-sep.tab | sort \\\n",
    "> _blast-sort.tab"
   ]
  },
  {
   "cell_type": "code",
   "execution_count": 12,
   "metadata": {},
   "outputs": [
    {
     "name": "stdout",
     "output_type": "stream",
     "text": [
      "A0A024SNB7\tCHOYP_contig_004745\t4.3\r\n",
      "A0A098D6U0\tCHOYP_LOC594793.1.1\t0.98\r\n"
     ]
    }
   ],
   "source": [
    "!head -2 _blast-sort.tab"
   ]
  },
  {
   "cell_type": "code",
   "execution_count": 13,
   "metadata": {
    "scrolled": true
   },
   "outputs": [],
   "source": [
    "#joining blast with uniprot annoation file and reducing to three columns UniprotID, Query, All GO terms\n",
    "!join -t $'\\t' \\\n",
    "_blast-sort.tab \\\n",
    "uniprot-SP-GO.sorted \\\n",
    "| cut -f1,2,14 \\\n",
    "> _blast-annot.tab"
   ]
  },
  {
   "cell_type": "code",
   "execution_count": 14,
   "metadata": {},
   "outputs": [
    {
     "name": "stdout",
     "output_type": "stream",
     "text": [
      "A0A098D6U0\tCHOYP_LOC594793.1.1\tGO:0009058; GO:0016740; GO:0016788; GO:0031177\r\n",
      "A0A0B5A7M7\tCHOYP_MPI5.1.1\tGO:0005179; GO:0005576; GO:0006006\r\n"
     ]
    }
   ],
   "source": [
    "!head -2 _blast-annot.tab"
   ]
  },
  {
   "cell_type": "markdown",
   "metadata": {},
   "source": [
    "## The following is a script modified from Sam"
   ]
  },
  {
   "cell_type": "code",
   "execution_count": 45,
   "metadata": {},
   "outputs": [],
   "source": [
    "%%bash \n",
    "\n",
    "# This script was originally written to address a specific problem that Rhonda was having\n",
    "\n",
    "\n",
    "\n",
    "# input_file is the initial, \"problem\" file\n",
    "# file is an intermediate file that most of the program works upon\n",
    "# output_file is the final file produced by the script\n",
    "input_file=\"_blast-annot.tab\"\n",
    "file=\"_intermediate.file\"\n",
    "output_file=\"_blast-GO-unfolded.tab\"\n",
    "\n",
    "# sed command substitutes the \"; \" sequence to a tab and writes the new format to a new file.\n",
    "# This character sequence is how the GO terms are delimited in their field.\n",
    "sed $'s/; /\\t/g' \"$input_file\" > \"$file\"\n",
    "\n",
    "# Identify first field containing a GO term.\n",
    "# Search file with grep for \"GO:\" and pipe to awk.\n",
    "# Awk sets tab as field delimiter (-F'\\t'), runs a for loop that looks for \"GO:\" (~/GO:/), and then prints the field number).\n",
    "# Awk results are piped to sort, which sorts unique by number (-ug).\n",
    "# Sort results are piped to head to retrieve the lowest value (i.e. the top of the list; \"-n1\").\n",
    "begin_goterms=$(grep \"GO:\" \"$file\" | awk -F'\\t' '{for (i=1;i<=NF;i++) if($i ~/GO:/) print i}' | sort -ug | head -n1)\n",
    "\n",
    "# While loop to process each line of the input file.\n",
    "while read -r line\n",
    "\tdo\n",
    "\t\n",
    "\t# Send contents of the current line to awk.\n",
    "\t# Set the field separator as a tab (-F'\\t') and print the number of fields in that line.\n",
    "\t# Save the results of the echo/awk pipe (i.e. number of fields) to the variable \"max_field\".\n",
    "\tmax_field=$(echo \"$line\" | awk -F'\\t' '{print NF}')\n",
    "\n",
    "\t# Send contents of current line to cut.\n",
    "\t# Cut fields (i.e. retain those fields) 1-12.\n",
    "\t# Save the results of the echo/cut pipe (i.e. fields 1-12) to the variable \"fixed_fields\"\n",
    "\tfixed_fields=$(echo \"$line\" | cut -f1-2)\n",
    "\n",
    "\t# Since not all the lines contain the same number of fields (e.g. may not have GO terms),\n",
    "\t# evaluate the number of fields in each line to determine how to handle current line.\n",
    "\n",
    "\t# If the value in max_field is less than the field number where the GO terms begin,\n",
    "\t# then just print the current line (%s) followed by a newline (\\n).\n",
    "\tif (( \"$max_field\" < \"$begin_goterms\" ))\n",
    "\t\tthen printf \"%s\\t\\n\" \"$line\"\n",
    "\t\t\telse\n",
    "\n",
    "\t\t\t# Send contents of current line (which contains GO terms) to cut.\n",
    "\t\t\t# Cut fields (i.e. retain those fields) 13 to whatever the last field is in the curent line.\n",
    "\t\t\t# Save the results of the echo/cut pipe (i.e. all the GO terms fields) to the variable \"goterms\".\n",
    "\t\t\tgoterms=$(echo \"$line\" | cut -f\"$begin_goterms\"-\"$max_field\")\n",
    "\t\t\t\n",
    "\t\t\t# Assign values in the variable \"goterms\" to a new indexed array (called \"array\"), \n",
    "\t\t\t# with tab delimiter (IFS=$'\\t')\n",
    "\t\t\tIFS=$'\\t' read -r -a array <<<\"$goterms\"\n",
    "\t\t\t\n",
    "\t\t\t# Iterate through each element of the array.\n",
    "\t\t\t# Print the first 12 fields (i.e. the fields stored in \"fixed_fields\") followed by a tab (%s\\t).\n",
    "\t\t\t# Print the current element in the array (i.e. the current GO term) followed by a new line (%s\\n).\n",
    "\t\t\tfor element in \"${!array[@]}\"\t\n",
    "\t\t\t\tdo printf \"%s\\t%s\\n\" \"$fixed_fields\" \"${array[$element]}\"\n",
    "\t\t\tdone\n",
    "\tfi\n",
    "\n",
    "# Send the input file into the while loop and send the output to a file named \"rhonda_fixed.txt\".\n",
    "done < \"$file\" > \"$output_file\""
   ]
  },
  {
   "cell_type": "markdown",
   "metadata": {},
   "source": [
    "Changed the first printf statement to include a tab and re-ran script. Skip to input 45 to see if this works."
   ]
  },
  {
   "cell_type": "code",
   "execution_count": 47,
   "metadata": {},
   "outputs": [
    {
     "name": "stdout",
     "output_type": "stream",
     "text": [
      "A0A098D6U0\tCHOYP_LOC594793.1.1\tGO:0009058\r\n",
      "A0A098D6U0\tCHOYP_LOC594793.1.1\tGO:0016740\r\n",
      "A0A098D6U0\tCHOYP_LOC594793.1.1\tGO:0016788\r\n",
      "A0A098D6U0\tCHOYP_LOC594793.1.1\tGO:0031177\r\n",
      "A0A0B5A7M7\tCHOYP_MPI5.1.1\tGO:0005179\r\n",
      "A0A0B5A7M7\tCHOYP_MPI5.1.1\tGO:0005576\r\n",
      "A0A0B5A7M7\tCHOYP_MPI5.1.1\tGO:0006006\r\n",
      "A0A0B5AC98\tCHOYP_MPI1.1.1\tGO:0005179\r\n",
      "A0A0B5AC98\tCHOYP_MPI1.1.1\tGO:0005576\r\n",
      "A0A0B5AC98\tCHOYP_MPI1.1.1\tGO:0006006\r\n"
     ]
    }
   ],
   "source": [
    "!head _blast-GO-unfolded.tab"
   ]
  },
  {
   "cell_type": "code",
   "execution_count": 48,
   "metadata": {},
   "outputs": [],
   "source": [
    "!sort -k3 _blast-GO-unfolded.tab > _blast-GO-unfolded.sorted"
   ]
  },
  {
   "cell_type": "code",
   "execution_count": 49,
   "metadata": {},
   "outputs": [
    {
     "name": "stdout",
     "output_type": "stream",
     "text": [
      "Q9TTS3\tCHOYP_ACACA.3.7\tGO:2001295\r\n",
      "Q9TTS3\tCHOYP_ACACA.6.7\tGO:2001295\r\n",
      "Q9TTS3\tCHOYP_ACACA.7.7\tGO:2001295\r\n",
      "P09917\tCHOYP_LOC584481.1.10\tGO:2001300\r\n",
      "P15428\tCHOYP_PGDH.5.5\tGO:2001300\r\n",
      "C8VQ62\tCHOYP_THIKA.1.1\tGO:2001307\r\n",
      "C8VQ62\tCHOYP_contig_020217\tGO:2001307\r\n",
      "Q4WRY5\tCHOYP_contig_040462\tGO:2001310\r\n",
      "Q8BP40\tCHOYP_LOC756773.1.1\tGO:2001311\r\n",
      "Q9NPH0\tCHOYP_contig_031590\tGO:2001311\r\n"
     ]
    }
   ],
   "source": [
    "!tail _blast-GO-unfolded.sorted"
   ]
  },
  {
   "cell_type": "code",
   "execution_count": 50,
   "metadata": {},
   "outputs": [
    {
     "name": "stdout",
     "output_type": "stream",
     "text": [
      "GO:0000001\tmitochondrion inheritance\tcell organization and biogenesis\tP\r\n",
      "GO:0000002\tmitochondrial genome maintenance\tcell organization and biogenesis\tP\r\n",
      "GO:0000003\treproduction\tother biological processes\tP\r\n",
      "GO:0000006\thigh affinity zinc uptake transmembrane transporter activity\ttransporter activity\tF\r\n",
      "GO:0000007\tlow-affinity zinc ion transmembrane transporter activity\ttransporter activity\tF\r\n",
      "GO:0000009\t\"alpha-1,6-mannosyltransferase activity\"\tother molecular function\tF\r\n",
      "GO:0000010\ttrans-hexaprenyltranstransferase activity\tother molecular function\tF\r\n",
      "GO:0000011\tvacuole inheritance\tcell organization and biogenesis\tP\r\n",
      "GO:0000012\tsingle strand break repair\tDNA metabolism\tP\r\n",
      "GO:0000012\tsingle strand break repair\tstress response\tP\r\n"
     ]
    }
   ],
   "source": [
    "!head GO-GOslim.sorted"
   ]
  },
  {
   "cell_type": "code",
   "execution_count": 51,
   "metadata": {},
   "outputs": [
    {
     "name": "stdout",
     "output_type": "stream",
     "text": [
      "GO:0000001\tP38880\tCHOYP_contig_028087\tmitochondrion inheritance\tcell organization and biogenesis\tP\r\n",
      "GO:0000001\tQ00083\tCHOYP_CRE_26779.1.2\tmitochondrion inheritance\tcell organization and biogenesis\tP\r\n",
      "GO:0000001\tQ10070\tCHOYP_SCHCODRAFT_79577.1.1\tmitochondrion inheritance\tcell organization and biogenesis\tP\r\n",
      "GO:0000001\tQ5BF59\tCHOYP_contig_044629\tmitochondrion inheritance\tcell organization and biogenesis\tP\r\n",
      "GO:0000001\tQ5BF59\tCHOYP_contig_044709\tmitochondrion inheritance\tcell organization and biogenesis\tP\r\n",
      "GO:0000002\tA2VDZ3\tCHOYP_MEF2A.1.1\tmitochondrial genome maintenance\tcell organization and biogenesis\tP\r\n",
      "GO:0000002\tA2VDZ3\tCHOYP_MEF2C.1.1\tmitochondrial genome maintenance\tcell organization and biogenesis\tP\r\n",
      "GO:0000002\tP87239\tCHOYP_CBEI_4404.1.1\tmitochondrial genome maintenance\tcell organization and biogenesis\tP\r\n",
      "GO:0000002\tQ3T0L3\tCHOYP_PHUM_PHUM229210.1.1\tmitochondrial genome maintenance\tcell organization and biogenesis\tP\r\n",
      "GO:0000002\tQ5FVR2\tCHOYP_BRAFLDRAFT_244533.1.2\tmitochondrial genome maintenance\tcell organization and biogenesis\tP\r\n",
      "join: stdout: Broken pipe\r\n"
     ]
    }
   ],
   "source": [
    "#joining files to get GOslim for each query (with duplicate GOslim / query removed)\n",
    "!join -1 3 -2 1 -t $'\\t' \\\n",
    "_blast-GO-unfolded.sorted \\\n",
    "GO-GOslim.sorted | head "
   ]
  },
  {
   "cell_type": "code",
   "execution_count": 52,
   "metadata": {},
   "outputs": [],
   "source": [
    "#joining files to get GOslim for each query (with duplicate GOslim / query removed)\n",
    "!join -1 3 -2 1 -t $'\\t' \\\n",
    "_blast-GO-unfolded.sorted \\\n",
    "GO-GOslim.sorted \\\n",
    "| uniq | awk -F'\\t' -v OFS='\\t' '{print $3, $1, $5, $6}' \\\n",
    "> Blastquery-GOslim.tab"
   ]
  },
  {
   "cell_type": "code",
   "execution_count": 53,
   "metadata": {
    "scrolled": true
   },
   "outputs": [
    {
     "name": "stdout",
     "output_type": "stream",
     "text": [
      "CHOYP_contig_028087\tGO:0000001\tcell organization and biogenesis\tP\r\n",
      "CHOYP_CRE_26779.1.2\tGO:0000001\tcell organization and biogenesis\tP\r\n",
      "CHOYP_SCHCODRAFT_79577.1.1\tGO:0000001\tcell organization and biogenesis\tP\r\n",
      "CHOYP_contig_044629\tGO:0000001\tcell organization and biogenesis\tP\r\n",
      "CHOYP_contig_044709\tGO:0000001\tcell organization and biogenesis\tP\r\n",
      "CHOYP_MEF2A.1.1\tGO:0000002\tcell organization and biogenesis\tP\r\n",
      "CHOYP_MEF2C.1.1\tGO:0000002\tcell organization and biogenesis\tP\r\n",
      "CHOYP_CBEI_4404.1.1\tGO:0000002\tcell organization and biogenesis\tP\r\n",
      "CHOYP_PHUM_PHUM229210.1.1\tGO:0000002\tcell organization and biogenesis\tP\r\n",
      "CHOYP_BRAFLDRAFT_244533.1.2\tGO:0000002\tcell organization and biogenesis\tP\r\n"
     ]
    }
   ],
   "source": [
    "!head Blastquery-GOslim.tab"
   ]
  },
  {
   "cell_type": "code",
   "execution_count": 31,
   "metadata": {},
   "outputs": [],
   "source": [
    "!join -1 3 -2 1 -t $'\\t' _blast-GO-unfolded.sorted GO-GOslim.sorted"
   ]
  },
  {
   "cell_type": "code",
   "execution_count": 33,
   "metadata": {},
   "outputs": [
    {
     "name": "stdout",
     "output_type": "stream",
     "text": [
      "GO:0000009\tQ9TTS3\tCHOYP_ACACA.3.7\t\"alpha-1,6-mannosyltransferase activity\"\tother molecular function\tF\r\n",
      "GO:0000010\tQ9TTS3\tCHOYP_ACACA.6.7\ttrans-hexaprenyltranstransferase activity\tother molecular function\tF\r\n",
      "GO:0000011\tQ9TTS3\tCHOYP_ACACA.7.7\tvacuole inheritance\tcell organization and biogenesis\tP\r\n",
      "GO:0000012\tP09917\tCHOYP_LOC584481.1.10\tsingle strand break repair\tDNA metabolism\tP\r\n",
      "GO:0000012\tP09917\tCHOYP_LOC584481.1.10\tsingle strand break repair\tstress response\tP\r\n",
      "GO:0000012\tP15428\tCHOYP_PGDH.5.5\tsingle strand break repair\tDNA metabolism\tP\r\n",
      "GO:0000012\tP15428\tCHOYP_PGDH.5.5\tsingle strand break repair\tstress response\tP\r\n"
     ]
    }
   ],
   "source": [
    "!join -1 3 -2 1 -t $'\\t' GOunfolded.sorted GOslim.sorted"
   ]
  },
  {
   "cell_type": "code",
   "execution_count": 34,
   "metadata": {
    "collapsed": true
   },
   "outputs": [],
   "source": [
    "#joining files to get GOslim for each query (with duplicate GOslim / query removed)\n",
    "!join -1 3 -2 1 -t $'\\t' \\\n",
    "_blast-GO-unfolded.sorted \\\n",
    "GO-GOslim.sorted"
   ]
  },
  {
   "cell_type": "code",
   "execution_count": 35,
   "metadata": {
    "collapsed": true
   },
   "outputs": [],
   "source": [
    "#joining files to get GOslim for each query (with duplicate GOslim / query removed)\n",
    "!join -1 3 -2 1 -t $'\\t' -o 2.1 \\\n",
    "_blast-GO-unfolded.sorted \\\n",
    "GO-GOslim.sorted | head "
   ]
  },
  {
   "cell_type": "code",
   "execution_count": 37,
   "metadata": {},
   "outputs": [
    {
     "name": "stdout",
     "output_type": "stream",
     "text": [
      "A0JM56^ICHOYP_LOC578913.1.1\r\n",
      "A0JNG7^ICHOYP_F16B1.1.1\r\n",
      "A0JP70^ICHOYP_LOC100371299.1.1\r\n",
      "A0JP70^ICHOYP_contig_000435\r\n",
      "A0JPI9^ICHOYP_BRAFLDRAFT_66304.1.3\r\n",
      "A0JPI9^ICHOYP_BRAFLDRAFT_87451.2.4\r\n",
      "A0JPI9^ICHOYP_LOC100005101.1.1\r\n",
      "A0JPI9^ICHOYP_LOC100183078.1.1\r\n",
      "A0JPI9^ICHOYP_LOC100372392.4.8\r\n",
      "A0JPI9^ICHOYP_LOC100372392.5.8\r\n",
      "cat: stdout: Broken pipe\r\n"
     ]
    }
   ],
   "source": [
    "!cat -t _blast-GO-unfolded.sorted | head"
   ]
  },
  {
   "cell_type": "code",
   "execution_count": 38,
   "metadata": {},
   "outputs": [
    {
     "name": "stdout",
     "output_type": "stream",
     "text": [
      "A0JM56\tCHOYP_LOC578913.1.1\r\n",
      "A0JNG7\tCHOYP_F16B1.1.1\r\n",
      "A0JP70\tCHOYP_LOC100371299.1.1\r\n",
      "A0JP70\tCHOYP_contig_000435\r\n",
      "A0JPI9\tCHOYP_BRAFLDRAFT_66304.1.3\r\n",
      "A0JPI9\tCHOYP_BRAFLDRAFT_87451.2.4\r\n",
      "A0JPI9\tCHOYP_LOC100005101.1.1\r\n",
      "A0JPI9\tCHOYP_LOC100183078.1.1\r\n",
      "A0JPI9\tCHOYP_LOC100372392.4.8\r\n",
      "A0JPI9\tCHOYP_LOC100372392.5.8\r\n"
     ]
    }
   ],
   "source": [
    "!head _blast-GO-unfolded.sorted"
   ]
  },
  {
   "cell_type": "code",
   "execution_count": 39,
   "metadata": {},
   "outputs": [
    {
     "name": "stdout",
     "output_type": "stream",
     "text": [
      "Q9TTS3^ICHOYP_ACACA.3.7^IGO:2001295\r\n",
      "Q9TTS3^ICHOYP_ACACA.6.7^IGO:2001295\r\n",
      "Q9TTS3^ICHOYP_ACACA.7.7^IGO:2001295\r\n",
      "P09917^ICHOYP_LOC584481.1.10^IGO:2001300\r\n",
      "P15428^ICHOYP_PGDH.5.5^IGO:2001300\r\n",
      "C8VQ62^ICHOYP_THIKA.1.1^IGO:2001307\r\n",
      "C8VQ62^ICHOYP_contig_020217^IGO:2001307\r\n",
      "Q4WRY5^ICHOYP_contig_040462^IGO:2001310\r\n",
      "Q8BP40^ICHOYP_LOC756773.1.1^IGO:2001311\r\n",
      "Q9NPH0^ICHOYP_contig_031590^IGO:2001311\r\n"
     ]
    }
   ],
   "source": [
    "!cat -t _blast-GO-unfolded.sorted | tail"
   ]
  },
  {
   "cell_type": "code",
   "execution_count": 40,
   "metadata": {},
   "outputs": [
    {
     "name": "stdout",
     "output_type": "stream",
     "text": [
      "Q9TTS3^ICHOYP_ACACA.3.7^IGO:0000009\r\n",
      "Q9TTS3^ICHOYP_ACACA.6.7^IGO:0000010\r\n",
      "Q9TTS3^ICHOYP_ACACA.7.7^IGO:0000011\r\n",
      "P09917^ICHOYP_LOC584481.1.10^IGO:0000012\r\n",
      "P15428^ICHOYP_PGDH.5.5^IGO:0000012\r\n",
      "C8VQ62^ICHOYP_THIKA.1.1^IGO:2001307\r\n",
      "C8VQ62^ICHOYP_contig_020217^IGO:2001307\r\n",
      "Q4WRY5^ICHOYP_contig_040462^IGO:2001310\r\n",
      "Q8BP40^ICHOYP_LOC756773.1.1^IGO:2001311\r\n",
      "Q9NPH0^ICHOYP_contig_031590^IGO:2001312"
     ]
    }
   ],
   "source": [
    "!cat -t GOunfolded.sorted"
   ]
  },
  {
   "cell_type": "code",
   "execution_count": 41,
   "metadata": {},
   "outputs": [
    {
     "name": "stdout",
     "output_type": "stream",
     "text": [
      "Q9TTS3^ICHOYP_ACACA.3.7^IGO:0000009^I\r\n",
      "Q9TTS3^ICHOYP_ACACA.6.7^IGO:0000010^I\r\n",
      "Q9TTS3^ICHOYP_ACACA.7.7^IGO:0000011^I\r\n",
      "P09917^ICHOYP_LOC584481.1.10^IGO:0000012^I\r\n",
      "P15428^ICHOYP_PGDH.5.5^IGO:0000012^I\r\n",
      "C8VQ62^ICHOYP_THIKA.1.1^IGO:2001307^I\r\n",
      "C8VQ62^ICHOYP_contig_020217^IGO:2001307^I\r\n",
      "Q4WRY5^ICHOYP_contig_040462^IGO:2001310^I\r\n",
      "Q8BP40^ICHOYP_LOC756773.1.1^IGO:2001311^I\r\n",
      "Q9NPH0^ICHOYP_contig_031590^IGO:2001312^I"
     ]
    }
   ],
   "source": [
    "!cat -t GOunfolded.sorted"
   ]
  },
  {
   "cell_type": "code",
   "execution_count": 42,
   "metadata": {
    "collapsed": true
   },
   "outputs": [],
   "source": [
    "#possible issues:\n",
    "#no tab after second column when entry has no GO term\n",
    "#how does join work with null entries"
   ]
  },
  {
   "cell_type": "code",
   "execution_count": 43,
   "metadata": {},
   "outputs": [
    {
     "name": "stdout",
     "output_type": "stream",
     "text": [
      "A0A098D6U0^ICHOYP_LOC594793.1.1^IGO:0009058\r\n",
      "A0A098D6U0^ICHOYP_LOC594793.1.1^IGO:0016740\r\n",
      "A0A098D6U0^ICHOYP_LOC594793.1.1^IGO:0016788\r\n",
      "A0A098D6U0^ICHOYP_LOC594793.1.1^IGO:0031177\r\n",
      "A0A0B5A7M7^ICHOYP_MPI5.1.1^IGO:0005179\r\n",
      "A0A0B5A7M7^ICHOYP_MPI5.1.1^IGO:0005576\r\n",
      "A0A0B5A7M7^ICHOYP_MPI5.1.1^IGO:0006006\r\n",
      "A0A0B5AC98^ICHOYP_MPI1.1.1^IGO:0005179\r\n",
      "A0A0B5AC98^ICHOYP_MPI1.1.1^IGO:0005576\r\n",
      "A0A0B5AC98^ICHOYP_MPI1.1.1^IGO:0006006\r\n",
      "cat: stdout: Broken pipe\r\n"
     ]
    }
   ],
   "source": [
    "!cat -t _blast-GO-unfolded.tab | head"
   ]
  },
  {
   "cell_type": "code",
   "execution_count": 44,
   "metadata": {},
   "outputs": [
    {
     "name": "stdout",
     "output_type": "stream",
     "text": [
      "A0A098D6U0^ICHOYP_LOC594793.1.1^IGO:0009058\r\n",
      "A0A098D6U0^ICHOYP_LOC594793.1.1^IGO:0016740\r\n",
      "A0A098D6U0^ICHOYP_LOC594793.1.1^IGO:0016788\r\n",
      "A0A098D6U0^ICHOYP_LOC594793.1.1^IGO:0031177\r\n",
      "A0A0B5A7M7^ICHOYP_MPI5.1.1^IGO:0005179\r\n",
      "A0A0B5A7M7^ICHOYP_MPI5.1.1^IGO:0005576\r\n",
      "A0A0B5A7M7^ICHOYP_MPI5.1.1^IGO:0006006\r\n",
      "A0A0B5AC98^ICHOYP_MPI1.1.1^IGO:0005179\r\n",
      "A0A0B5AC98^ICHOYP_MPI1.1.1^IGO:0005576\r\n",
      "A0A0B5AC98^ICHOYP_MPI1.1.1^IGO:0006006\r\n",
      "sort: write failed: standard output: Broken pipe\r\n",
      "sort: write error\r\n"
     ]
    }
   ],
   "source": [
    "!cat -t _blast-GO-unfolded.tab | sort -k3 | head"
   ]
  },
  {
   "cell_type": "code",
   "execution_count": 54,
   "metadata": {
    "collapsed": true
   },
   "outputs": [],
   "source": [
    "!awk '{ print $1 }' GO-GOslim.sorted > GO_only_GOslim.sorted"
   ]
  },
  {
   "cell_type": "code",
   "execution_count": null,
   "metadata": {
    "collapsed": true
   },
   "outputs": [],
   "source": []
  }
 ],
 "metadata": {
  "kernelspec": {
   "display_name": "Python 3",
   "language": "python",
   "name": "python3"
  },
  "language_info": {
   "codemirror_mode": {
    "name": "ipython",
    "version": 3
   },
   "file_extension": ".py",
   "mimetype": "text/x-python",
   "name": "python",
   "nbconvert_exporter": "python",
   "pygments_lexer": "ipython3",
   "version": "3.6.1"
  }
 },
 "nbformat": 4,
 "nbformat_minor": 1
}
